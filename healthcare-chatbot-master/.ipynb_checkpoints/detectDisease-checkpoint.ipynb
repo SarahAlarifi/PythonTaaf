{
 "cells": [
  {
   "cell_type": "code",
   "execution_count": null,
   "metadata": {},
   "outputs": [],
   "source": []
  }
 ],
 "metadata": {
  "kernelspec": {
   "display_name": "Python 3",
   "language": "python",
   "name": "python3"
  },
  "language_info": {
   "name": "python",
   "version": "3.10.7 (tags/v3.10.7:6cc6b13, Sep  5 2022, 14:08:36) [MSC v.1933 64 bit (AMD64)]"
  },
  "vscode": {
   "interpreter": {
    "hash": "3dff90d4cec4d711c3a70d965cfe0e8f9954390752ae5e4b923352bd243a452d"
   }
  }
 },
 "nbformat": 4,
 "nbformat_minor": 5
}
